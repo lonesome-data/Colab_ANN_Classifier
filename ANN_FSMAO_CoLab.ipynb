{
  "nbformat": 4,
  "nbformat_minor": 0,
  "metadata": {
    "colab": {
      "name": "FSMAO_CoLab",
      "version": "0.3.2",
      "views": {},
      "default_view": {},
      "provenance": []
    },
    "kernelspec": {
      "name": "python3",
      "display_name": "Python 3"
    },
    "accelerator": "GPU"
  },
  "cells": [
    {
      "metadata": {
        "id": "8hg_UiZ1T7DD",
        "colab_type": "code",
        "colab": {
          "autoexec": {
            "startup": false,
            "wait_interval": 0
          },
          "output_extras": [
            {
              "item_id": 1
            }
          ],
          "base_uri": "https://localhost:8080/",
          "height": 38
        },
        "outputId": "98dafd91-83a5-45ab-b819-272947bc239d",
        "executionInfo": {
          "status": "ok",
          "timestamp": 1518128259066,
          "user_tz": 480,
          "elapsed": 277,
          "user": {
            "displayName": "Sean F",
            "photoUrl": "https://lh3.googleusercontent.com/a/default-user=s128",
            "userId": "116660849883373944671"
          }
        }
      },
      "cell_type": "code",
      "source": [
        "%%html\n",
        "<marquee style='width: 30%; color: blue;'><b>First Dance with Google's CoLab!</b></marquee>"
      ],
      "execution_count": 1,
      "outputs": [
        {
          "output_type": "display_data",
          "data": {
            "text/html": [
              "<marquee style='width: 30%; color: blue;'><b>First Dance with Google's CoLab!</b></marquee>"
            ],
            "text/plain": [
              "<IPython.core.display.HTML object>"
            ]
          },
          "metadata": {
            "tags": []
          }
        }
      ]
    },
    {
      "metadata": {
        "id": "qXfkEoYnahQi",
        "colab_type": "code",
        "colab": {
          "autoexec": {
            "startup": false,
            "wait_interval": 0
          }
        }
      },
      "cell_type": "code",
      "source": [
        "import pandas as pd\n",
        "import numpy as np\n",
        "import sklearn.preprocessing, sklearn.decomposition, sklearn.linear_model, sklearn.pipeline, sklearn.metrics"
      ],
      "execution_count": 0,
      "outputs": []
    },
    {
      "metadata": {
        "id": "TFwGmeIwcRX5",
        "colab_type": "text"
      },
      "cell_type": "markdown",
      "source": [
        ""
      ]
    },
    {
      "metadata": {
        "id": "LYxfrUa0cScz",
        "colab_type": "code",
        "colab": {
          "autoexec": {
            "startup": false,
            "wait_interval": 0
          }
        }
      },
      "cell_type": "code",
      "source": [
        "# Install the PyDrive wrapper & import libraries.\n",
        "# This only needs to be done once per notebook.\n",
        "!pip install -U -q PyDrive\n",
        "from pydrive.auth import GoogleAuth\n",
        "from pydrive.drive import GoogleDrive\n",
        "from google.colab import auth\n",
        "from oauth2client.client import GoogleCredentials\n",
        "\n",
        "auth.authenticate_user()\n",
        "gauth = GoogleAuth()\n",
        "gauth.credentials = GoogleCredentials.get_application_default()\n",
        "drive = GoogleDrive(gauth)\n",
        "\n",
        "file_id = '1ry3Hxy6rJGkdrI5KcSMJeqnThjvMIbrl'\n",
        "downloaded = drive.CreateFile({'id': file_id})\n",
        "\n",
        "# Download the file to a local disk as 'exported.xlsx'.\n",
        "downloaded.GetContentFile('exported.xlsx')"
      ],
      "execution_count": 0,
      "outputs": []
    },
    {
      "metadata": {
        "id": "xNXxVJjb82Vw",
        "colab_type": "code",
        "colab": {
          "autoexec": {
            "startup": false,
            "wait_interval": 0
          }
        }
      },
      "cell_type": "code",
      "source": [
        "!pip install -q xlrd"
      ],
      "execution_count": 0,
      "outputs": []
    },
    {
      "metadata": {
        "id": "GaClSGI0-ycA",
        "colab_type": "code",
        "colab": {
          "autoexec": {
            "startup": false,
            "wait_interval": 0
          }
        }
      },
      "cell_type": "code",
      "source": [
        "df = pd.read_excel('exported.xlsx', sheet_name= 'qryUSMCTrendsByLOE')"
      ],
      "execution_count": 0,
      "outputs": []
    },
    {
      "metadata": {
        "id": "eNTvTfcMclLK",
        "colab_type": "code",
        "colab": {
          "autoexec": {
            "startup": false,
            "wait_interval": 0
          },
          "output_extras": [
            {
              "item_id": 1
            }
          ],
          "base_uri": "https://localhost:8080/",
          "height": 334
        },
        "outputId": "69f98c38-43c2-4b08-b093-8dded539f97c",
        "executionInfo": {
          "status": "ok",
          "timestamp": 1518128362271,
          "user_tz": 480,
          "elapsed": 326,
          "user": {
            "displayName": "Sean F",
            "photoUrl": "https://lh3.googleusercontent.com/a/default-user=s128",
            "userId": "116660849883373944671"
          }
        }
      },
      "cell_type": "code",
      "source": [
        "df[:5]"
      ],
      "execution_count": 6,
      "outputs": [
        {
          "output_type": "execute_result",
          "data": {
            "text/html": [
              "<div>\n",
              "<style scoped>\n",
              "    .dataframe tbody tr th:only-of-type {\n",
              "        vertical-align: middle;\n",
              "    }\n",
              "\n",
              "    .dataframe tbody tr th {\n",
              "        vertical-align: top;\n",
              "    }\n",
              "\n",
              "    .dataframe thead th {\n",
              "        text-align: right;\n",
              "    }\n",
              "</style>\n",
              "<table border=\"1\" class=\"dataframe\">\n",
              "  <thead>\n",
              "    <tr style=\"text-align: right;\">\n",
              "      <th></th>\n",
              "      <th>MasterQuestionID</th>\n",
              "      <th>Master_QNbr</th>\n",
              "      <th>FSMAO</th>\n",
              "      <th>TLC</th>\n",
              "      <th>MSC</th>\n",
              "      <th>InspectUnit</th>\n",
              "      <th>FY</th>\n",
              "      <th>Qtr</th>\n",
              "      <th>LOELongName</th>\n",
              "      <th>LOE_RISK</th>\n",
              "      <th>...</th>\n",
              "      <th>NoSS5</th>\n",
              "      <th>NoSS6</th>\n",
              "      <th>NoSS7</th>\n",
              "      <th>NoSS8</th>\n",
              "      <th>NoSS9</th>\n",
              "      <th>NoSS10</th>\n",
              "      <th>Analyst1</th>\n",
              "      <th>Title</th>\n",
              "      <th>NameFirst</th>\n",
              "      <th>NameLast</th>\n",
              "    </tr>\n",
              "  </thead>\n",
              "  <tbody>\n",
              "    <tr>\n",
              "      <th>0</th>\n",
              "      <td>1001</td>\n",
              "      <td>1</td>\n",
              "      <td>West</td>\n",
              "      <td>I MEF</td>\n",
              "      <td>1st MarDiv</td>\n",
              "      <td>HQCo 1st MarRgmt</td>\n",
              "      <td>17</td>\n",
              "      <td>1</td>\n",
              "      <td>Property Accountability</td>\n",
              "      <td>Low</td>\n",
              "      <td>...</td>\n",
              "      <td>NaN</td>\n",
              "      <td>NaN</td>\n",
              "      <td>NaN</td>\n",
              "      <td>NaN</td>\n",
              "      <td>NaN</td>\n",
              "      <td>NaN</td>\n",
              "      <td>64.0</td>\n",
              "      <td>Mr.</td>\n",
              "      <td>Aurelio</td>\n",
              "      <td>Anderson</td>\n",
              "    </tr>\n",
              "    <tr>\n",
              "      <th>1</th>\n",
              "      <td>1002</td>\n",
              "      <td>2</td>\n",
              "      <td>West</td>\n",
              "      <td>I MEF</td>\n",
              "      <td>1st MarDiv</td>\n",
              "      <td>HQCo 1st MarRgmt</td>\n",
              "      <td>17</td>\n",
              "      <td>1</td>\n",
              "      <td>Property Accountability</td>\n",
              "      <td>Low</td>\n",
              "      <td>...</td>\n",
              "      <td>NaN</td>\n",
              "      <td>NaN</td>\n",
              "      <td>NaN</td>\n",
              "      <td>NaN</td>\n",
              "      <td>NaN</td>\n",
              "      <td>NaN</td>\n",
              "      <td>64.0</td>\n",
              "      <td>Mr.</td>\n",
              "      <td>Aurelio</td>\n",
              "      <td>Anderson</td>\n",
              "    </tr>\n",
              "    <tr>\n",
              "      <th>2</th>\n",
              "      <td>1003</td>\n",
              "      <td>3</td>\n",
              "      <td>West</td>\n",
              "      <td>I MEF</td>\n",
              "      <td>1st MarDiv</td>\n",
              "      <td>HQCo 1st MarRgmt</td>\n",
              "      <td>17</td>\n",
              "      <td>1</td>\n",
              "      <td>Property Accountability</td>\n",
              "      <td>Low</td>\n",
              "      <td>...</td>\n",
              "      <td>NaN</td>\n",
              "      <td>NaN</td>\n",
              "      <td>NaN</td>\n",
              "      <td>NaN</td>\n",
              "      <td>NaN</td>\n",
              "      <td>NaN</td>\n",
              "      <td>64.0</td>\n",
              "      <td>Mr.</td>\n",
              "      <td>Aurelio</td>\n",
              "      <td>Anderson</td>\n",
              "    </tr>\n",
              "    <tr>\n",
              "      <th>3</th>\n",
              "      <td>1004</td>\n",
              "      <td>4</td>\n",
              "      <td>West</td>\n",
              "      <td>I MEF</td>\n",
              "      <td>1st MarDiv</td>\n",
              "      <td>HQCo 1st MarRgmt</td>\n",
              "      <td>17</td>\n",
              "      <td>1</td>\n",
              "      <td>Property Accountability</td>\n",
              "      <td>Low</td>\n",
              "      <td>...</td>\n",
              "      <td>NaN</td>\n",
              "      <td>NaN</td>\n",
              "      <td>NaN</td>\n",
              "      <td>NaN</td>\n",
              "      <td>NaN</td>\n",
              "      <td>NaN</td>\n",
              "      <td>64.0</td>\n",
              "      <td>Mr.</td>\n",
              "      <td>Aurelio</td>\n",
              "      <td>Anderson</td>\n",
              "    </tr>\n",
              "    <tr>\n",
              "      <th>4</th>\n",
              "      <td>1005</td>\n",
              "      <td>5</td>\n",
              "      <td>West</td>\n",
              "      <td>I MEF</td>\n",
              "      <td>1st MarDiv</td>\n",
              "      <td>HQCo 1st MarRgmt</td>\n",
              "      <td>17</td>\n",
              "      <td>1</td>\n",
              "      <td>Property Accountability</td>\n",
              "      <td>Low</td>\n",
              "      <td>...</td>\n",
              "      <td>1.0</td>\n",
              "      <td>1.0</td>\n",
              "      <td>NaN</td>\n",
              "      <td>NaN</td>\n",
              "      <td>NaN</td>\n",
              "      <td>NaN</td>\n",
              "      <td>64.0</td>\n",
              "      <td>Mr.</td>\n",
              "      <td>Aurelio</td>\n",
              "      <td>Anderson</td>\n",
              "    </tr>\n",
              "  </tbody>\n",
              "</table>\n",
              "<p>5 rows × 50 columns</p>\n",
              "</div>"
            ],
            "text/plain": [
              "   MasterQuestionID  Master_QNbr FSMAO    TLC         MSC       InspectUnit  \\\n",
              "0              1001            1  West  I MEF  1st MarDiv  HQCo 1st MarRgmt   \n",
              "1              1002            2  West  I MEF  1st MarDiv  HQCo 1st MarRgmt   \n",
              "2              1003            3  West  I MEF  1st MarDiv  HQCo 1st MarRgmt   \n",
              "3              1004            4  West  I MEF  1st MarDiv  HQCo 1st MarRgmt   \n",
              "4              1005            5  West  I MEF  1st MarDiv  HQCo 1st MarRgmt   \n",
              "\n",
              "   FY  Qtr              LOELongName LOE_RISK    ...     NoSS5 NoSS6 NoSS7  \\\n",
              "0  17    1  Property Accountability      Low    ...       NaN   NaN   NaN   \n",
              "1  17    1  Property Accountability      Low    ...       NaN   NaN   NaN   \n",
              "2  17    1  Property Accountability      Low    ...       NaN   NaN   NaN   \n",
              "3  17    1  Property Accountability      Low    ...       NaN   NaN   NaN   \n",
              "4  17    1  Property Accountability      Low    ...       1.0   1.0   NaN   \n",
              "\n",
              "   NoSS8 NoSS9 NoSS10  Analyst1 Title NameFirst  NameLast  \n",
              "0    NaN   NaN    NaN      64.0   Mr.   Aurelio  Anderson  \n",
              "1    NaN   NaN    NaN      64.0   Mr.   Aurelio  Anderson  \n",
              "2    NaN   NaN    NaN      64.0   Mr.   Aurelio  Anderson  \n",
              "3    NaN   NaN    NaN      64.0   Mr.   Aurelio  Anderson  \n",
              "4    NaN   NaN    NaN      64.0   Mr.   Aurelio  Anderson  \n",
              "\n",
              "[5 rows x 50 columns]"
            ]
          },
          "metadata": {
            "tags": []
          },
          "execution_count": 6
        }
      ]
    },
    {
      "metadata": {
        "id": "D1HRuveZ-O2N",
        "colab_type": "code",
        "colab": {
          "autoexec": {
            "startup": false,
            "wait_interval": 0
          }
        }
      },
      "cell_type": "code",
      "source": [
        "df = df.drop(['MasterQuestionID', 'Master_QNbr', 'QuestionID', 'LOERiskAssessmentHighest', \n",
        "                  'LOECat1RiskAssesment','LOECat2RiskAssesment', 'LOECat3RiskAssesment', 'LOECat4RiskAssesment', \n",
        "                  'LOECat5RiskAssesment', 'LOECat6RiskAssesment', 'LOECat7RiskAssesment', 'LOECat8RiskAssesment',\n",
        "                  'NoSS1', 'NoSS2', 'NoSS3', 'NoSS4', 'NoSS5', 'NoSS6','NoSS7','NoSS8','NoSS9',\n",
        "                  'NoSS10','Condition', 'Cause', 'RiskAssessment', 'NameFirst', \n",
        "                  'ActSS', 'ActSSNO', 'RCAFactor', 'LOEFactor', 'Analyst1', 'NameLast', 'TLC', \n",
        "                  'MSC', 'InspectUnit', 'Question'], axis = 1)"
      ],
      "execution_count": 0,
      "outputs": []
    },
    {
      "metadata": {
        "id": "bwoGFvhr_pbJ",
        "colab_type": "code",
        "colab": {
          "autoexec": {
            "startup": false,
            "wait_interval": 0
          }
        }
      },
      "cell_type": "code",
      "source": [
        "# reduce label to binomial class\n",
        "df = df[df.FSMAO != 'WestPac']"
      ],
      "execution_count": 0,
      "outputs": []
    },
    {
      "metadata": {
        "id": "3X9-6TolIJ_w",
        "colab_type": "text"
      },
      "cell_type": "markdown",
      "source": [
        "Imuter transformation of missing values"
      ]
    },
    {
      "metadata": {
        "id": "V86gKVO5BEck",
        "colab_type": "code",
        "colab": {
          "autoexec": {
            "startup": false,
            "wait_interval": 0
          }
        }
      },
      "cell_type": "code",
      "source": [
        "from sklearn.base import TransformerMixin\n",
        "import numpy as np\n",
        "\n",
        "class SeriesImputer(TransformerMixin):\n",
        "\n",
        "    def __init__(self):\n",
        "        \"\"\"Impute missing values.\n",
        "\n",
        "        If the Series is of dtype Object, then impute with the most frequent object.\n",
        "        If the Series is not of dtype Object, then impute with the mean.  \n",
        "\n",
        "        \"\"\"\n",
        "    def fit(self, X, y=None):\n",
        "        if   X.dtype == np.dtype('O'): self.fill = X.value_counts().index[0]\n",
        "        else                            : self.fill = X.mean()\n",
        "        return self\n",
        "\n",
        "    def transform(self, X, y=None):\n",
        "        return X.fillna(self.fill)\n",
        "\n",
        "imputer = SeriesImputer()\n",
        "\n",
        "imputer.fit(df['LOE_RISK'])\n",
        "df['LOE_RISK'] = imputer.transform(df['LOE_RISK'])\n",
        "\n",
        "imputer.fit(df['AnswerText'])\n",
        "df['AnswerText'] = imputer.transform(df['AnswerText'])\n",
        "\n",
        "imputer.fit(df['Title'])\n",
        "df['Title'] = imputer.transform(df['Title'])\n",
        "\n",
        "imputer.fit(df['PercentAttained'])\n",
        "df['PercentAttained'] = imputer.transform(df['PercentAttained'])\n",
        "\n",
        "imputer.fit(df['PP'])\n",
        "df['PP'] = imputer.transform(df['PP'])\n",
        "\n",
        "imputer.fit(df['PA'])\n",
        "df['PA'] = imputer.transform(df['PA'])\n",
        "\n",
        "imputer.fit(df['ActSSYES'])\n",
        "df['ActSSYES'] = imputer.transform(df['ActSSYES'])"
      ],
      "execution_count": 0,
      "outputs": []
    },
    {
      "metadata": {
        "id": "pzC9y0Zp-ShE",
        "colab_type": "code",
        "colab": {
          "autoexec": {
            "startup": false,
            "wait_interval": 0
          }
        }
      },
      "cell_type": "code",
      "source": [
        "# Note the use of .drop() to drop the target variable 'party' from the feature array X as well as the use of the \n",
        "# .values attribute to ensure X and y are NumPy arrays. Without using .values, X and y are a DataFrame and Series \n",
        "# respectively; the scikit-learn API will accept them in this form also as long as they are of the right shape.\n",
        "\n",
        "X, y = df.drop('FSMAO', axis = 1), df['FSMAO'].values"
      ],
      "execution_count": 0,
      "outputs": []
    },
    {
      "metadata": {
        "id": "p6e_qwaO_aIl",
        "colab_type": "text"
      },
      "cell_type": "markdown",
      "source": [
        "y consists of a single column with categories ‘East’ and ‘West’ and will be encoded to a mathematically relevant form, i.e., ‘1’ and ‘0’. This can be done with the Label Encoder class.\n",
        "'1' == East\n",
        "'0' == West\n",
        "\n"
      ]
    },
    {
      "metadata": {
        "id": "hceYvIwMAAo0",
        "colab_type": "code",
        "colab": {
          "autoexec": {
            "startup": false,
            "wait_interval": 0
          }
        }
      },
      "cell_type": "code",
      "source": [
        "#Encoding Categorical Data\n",
        "from sklearn.preprocessing import LabelEncoder\n",
        "labelencoder = LabelEncoder()\n",
        "\n",
        "y = labelencoder.fit_transform(y)"
      ],
      "execution_count": 0,
      "outputs": []
    },
    {
      "metadata": {
        "id": "yzP0GEQRIsjn",
        "colab_type": "text"
      },
      "cell_type": "markdown",
      "source": [
        "Convert categorical features to continuous (13 -> 106 features)"
      ]
    },
    {
      "metadata": {
        "id": "5zIIOoRcJNFT",
        "colab_type": "code",
        "colab": {
          "autoexec": {
            "startup": false,
            "wait_interval": 0
          }
        }
      },
      "cell_type": "code",
      "source": [
        "X = pd.get_dummies(X, drop_first=True)"
      ],
      "execution_count": 0,
      "outputs": []
    },
    {
      "metadata": {
        "id": "f5XSOUbXJFwj",
        "colab_type": "code",
        "colab": {
          "autoexec": {
            "startup": false,
            "wait_interval": 0
          }
        }
      },
      "cell_type": "code",
      "source": [
        "# split df into training and test sets\n",
        "\n",
        "from sklearn.model_selection import train_test_split\n",
        "\n",
        "X_train, X_test, y_train, y_test = train_test_split(X, y, test_size = 0.2, random_state = 42)"
      ],
      "execution_count": 0,
      "outputs": []
    },
    {
      "metadata": {
        "id": "lWK522C9KS3p",
        "colab_type": "code",
        "colab": {
          "autoexec": {
            "startup": false,
            "wait_interval": 0
          }
        }
      },
      "cell_type": "code",
      "source": [
        "#Feature Scaling\n",
        "\n",
        "from sklearn.preprocessing import StandardScaler\n",
        "\n",
        "sc = StandardScaler()\n",
        "\n",
        "X_train = sc.fit_transform(X_train)\n",
        "X_test = sc.fit_transform(X_test)"
      ],
      "execution_count": 0,
      "outputs": []
    },
    {
      "metadata": {
        "id": "xpzePNXDKrBv",
        "colab_type": "text"
      },
      "cell_type": "markdown",
      "source": [
        "**Keras**\n",
        "Keras is a high level API for building Artificial Neural Networks. It uses Tensorflow or Theano backend for its under-the-hood operations. To install Keras, must have Tensorflow installed on machine. Colaboratory has Tensorflow already installed on the VM. To check the installation version, try:\n",
        "\n",
        "!pip show tensorflow\n",
        "\n",
        "You can also install a specific version of Tensorflow, if needed, using: \n",
        "\n",
        "!pip install tensorflow==1.2"
      ]
    },
    {
      "metadata": {
        "id": "ZtiCChoGMHI9",
        "colab_type": "text"
      },
      "cell_type": "markdown",
      "source": [
        "Install Keras"
      ]
    },
    {
      "metadata": {
        "id": "7Aua56VSKaMZ",
        "colab_type": "code",
        "colab": {
          "autoexec": {
            "startup": false,
            "wait_interval": 0
          }
        }
      },
      "cell_type": "code",
      "source": [
        "!pip install -q keras"
      ],
      "execution_count": 0,
      "outputs": []
    },
    {
      "metadata": {
        "id": "_JNZq5rWNP5w",
        "colab_type": "text"
      },
      "cell_type": "markdown",
      "source": [
        "The classes Sequential and Dense are used to specify the nodes, connections, specifications of the neural network. As seen in the above section, we will need these to customize our learning network’s parameters and tune them."
      ]
    },
    {
      "metadata": {
        "id": "WwHGvDvyMN0v",
        "colab_type": "code",
        "colab": {
          "autoexec": {
            "startup": false,
            "wait_interval": 0
          },
          "output_extras": [
            {
              "item_id": 1
            }
          ],
          "base_uri": "https://localhost:8080/",
          "height": 34
        },
        "outputId": "cd69576b-66dc-4e3b-c66e-a98f2138fb13",
        "executionInfo": {
          "status": "ok",
          "timestamp": 1518128375248,
          "user_tz": 480,
          "elapsed": 6561,
          "user": {
            "displayName": "Sean F",
            "photoUrl": "https://lh3.googleusercontent.com/a/default-user=s128",
            "userId": "116660849883373944671"
          }
        }
      },
      "cell_type": "code",
      "source": [
        "# Import the Keras libraries and packages\n",
        "\n",
        "import keras\n",
        "from keras.models import Sequential\n",
        "from keras.layers import Dense"
      ],
      "execution_count": 16,
      "outputs": [
        {
          "output_type": "stream",
          "text": [
            "Using TensorFlow backend.\n"
          ],
          "name": "stderr"
        }
      ]
    },
    {
      "metadata": {
        "id": "Xr15WkkANUPP",
        "colab_type": "text"
      },
      "cell_type": "markdown",
      "source": [
        "To initialize the Neural Network, we shall create an object of the Sequential Class."
      ]
    },
    {
      "metadata": {
        "id": "7CK-4IH-M7YP",
        "colab_type": "code",
        "colab": {
          "autoexec": {
            "startup": false,
            "wait_interval": 0
          }
        }
      },
      "cell_type": "code",
      "source": [
        "# Initialising the ANN\n",
        "classifier = Sequential()"
      ],
      "execution_count": 0,
      "outputs": []
    },
    {
      "metadata": {
        "id": "fMuNzWoQN2GP",
        "colab_type": "text"
      },
      "cell_type": "markdown",
      "source": [
        "Design the network\n",
        "For every **hidden layer**, define three basic parameters \n",
        "*   units (defines the number of neurons the layer will consist of)\n",
        "*   [kernel_initializer](https://faroit.github.io/keras-docs/1.2.2/initializations/) (initial weights which the neuron will operate on the data input)\n",
        "*   activation (activation function we choose to use for our data)\n"
      ]
    },
    {
      "metadata": {
        "id": "5qth2k_cO87w",
        "colab_type": "text"
      },
      "cell_type": "markdown",
      "source": [
        "**First Layer**:\n",
        "\n",
        "For the first layer, place 54 neurons with uniformly initialized weights activated by a ReLU activation function. Additionally, define the parameter input_dim = 106 as specification for the input layer. Note that we have 106 features columns in our dataset.\n",
        "\n",
        "Cheat:\n",
        "How did we decide that the number of units in the layer? People will tell you it is an art and it comes with experience and expertise. A simple way for a beginner is to add the total number of columns in X and y and divide by 2. (106+1)/2 = 53.5 ~ 54. hence , units = 54."
      ]
    },
    {
      "metadata": {
        "id": "o5fRDo4_NDC2",
        "colab_type": "code",
        "colab": {
          "autoexec": {
            "startup": false,
            "wait_interval": 0
          }
        }
      },
      "cell_type": "code",
      "source": [
        "# Adding the input layer and the first hidden layer\n",
        "classifier.add(Dense(units = 54, kernel_initializer = 'uniform', activation = 'relu', input_dim = 106))"
      ],
      "execution_count": 0,
      "outputs": []
    },
    {
      "metadata": {
        "id": "950HF9wmQ-Hr",
        "colab_type": "text"
      },
      "cell_type": "markdown",
      "source": [
        "Second Layer: The second layer is the same as the first layer without the input_dim parameter."
      ]
    },
    {
      "metadata": {
        "id": "ZpwiOPRSQwDa",
        "colab_type": "code",
        "colab": {
          "autoexec": {
            "startup": false,
            "wait_interval": 0
          }
        }
      },
      "cell_type": "code",
      "source": [
        "classifier.add(Dense(units = 16, kernel_initializer = 'uniform', activation = 'relu'))\n"
      ],
      "execution_count": 0,
      "outputs": []
    },
    {
      "metadata": {
        "id": "n7_wGUw1RV_A",
        "colab_type": "text"
      },
      "cell_type": "markdown",
      "source": [
        "Output Layer: Since our output is either of two values, we can use a single unit with uniform initializing weight. Here however, we use a sigmoid activation function."
      ]
    },
    {
      "metadata": {
        "id": "GXIZutCzRHhK",
        "colab_type": "code",
        "colab": {
          "autoexec": {
            "startup": false,
            "wait_interval": 0
          }
        }
      },
      "cell_type": "code",
      "source": [
        "classifier.add(Dense(units = 1, kernel_initializer = 'uniform', activation = 'sigmoid'))"
      ],
      "execution_count": 0,
      "outputs": []
    },
    {
      "metadata": {
        "id": "UPsbw_fcRfPe",
        "colab_type": "code",
        "colab": {
          "autoexec": {
            "startup": false,
            "wait_interval": 0
          }
        }
      },
      "cell_type": "code",
      "source": [
        "# Compiling the ANN\n",
        "classifier.compile(optimizer = 'adam', loss = 'binary_crossentropy', metrics = ['accuracy'])"
      ],
      "execution_count": 0,
      "outputs": []
    },
    {
      "metadata": {
        "id": "61y-lllHRuhd",
        "colab_type": "text"
      },
      "cell_type": "markdown",
      "source": [
        "**Fitting**: \n",
        "Run the Artificial Neural Network and let the backprop magic happen. Observe all this processing on Colaboratory instead of the local machine.\n",
        "\n",
        "The batch_size is the number of inputs to simultaneously process. Epoch is an entire cycle in which all data passes through the neural network once. "
      ]
    },
    {
      "metadata": {
        "id": "oMb8dTgyRotX",
        "colab_type": "code",
        "colab": {
          "autoexec": {
            "startup": false,
            "wait_interval": 0
          },
          "output_extras": [
            {
              "item_id": 42
            },
            {
              "item_id": 79
            },
            {
              "item_id": 129
            },
            {
              "item_id": 159
            },
            {
              "item_id": 219
            },
            {
              "item_id": 279
            },
            {
              "item_id": 314
            },
            {
              "item_id": 346
            },
            {
              "item_id": 375
            },
            {
              "item_id": 404
            },
            {
              "item_id": 448
            },
            {
              "item_id": 484
            },
            {
              "item_id": 515
            },
            {
              "item_id": 545
            },
            {
              "item_id": 573
            },
            {
              "item_id": 616
            },
            {
              "item_id": 651
            },
            {
              "item_id": 683
            },
            {
              "item_id": 712
            },
            {
              "item_id": 768
            },
            {
              "item_id": 803
            },
            {
              "item_id": 835
            },
            {
              "item_id": 865
            },
            {
              "item_id": 893
            },
            {
              "item_id": 937
            },
            {
              "item_id": 973
            },
            {
              "item_id": 1004
            },
            {
              "item_id": 1034
            },
            {
              "item_id": 1073
            },
            {
              "item_id": 1101
            },
            {
              "item_id": 1145
            },
            {
              "item_id": 1180
            },
            {
              "item_id": 1211
            },
            {
              "item_id": 1241
            },
            {
              "item_id": 1282
            },
            {
              "item_id": 1331
            },
            {
              "item_id": 1363
            },
            {
              "item_id": 1393
            },
            {
              "item_id": 1422
            },
            {
              "item_id": 1466
            },
            {
              "item_id": 1510
            },
            {
              "item_id": 1541
            },
            {
              "item_id": 1571
            },
            {
              "item_id": 1600
            },
            {
              "item_id": 1644
            },
            {
              "item_id": 1679
            },
            {
              "item_id": 1710
            },
            {
              "item_id": 1740
            },
            {
              "item_id": 1781
            },
            {
              "item_id": 1818
            },
            {
              "item_id": 1850
            },
            {
              "item_id": 1880
            },
            {
              "item_id": 1908
            },
            {
              "item_id": 1952
            },
            {
              "item_id": 1987
            },
            {
              "item_id": 2019
            },
            {
              "item_id": 2048
            },
            {
              "item_id": 2077
            },
            {
              "item_id": 2121
            },
            {
              "item_id": 2156
            },
            {
              "item_id": 2187
            },
            {
              "item_id": 2217
            },
            {
              "item_id": 2252
            },
            {
              "item_id": 2295
            },
            {
              "item_id": 2330
            },
            {
              "item_id": 2361
            },
            {
              "item_id": 2391
            },
            {
              "item_id": 2419
            },
            {
              "item_id": 2463
            },
            {
              "item_id": 2499
            },
            {
              "item_id": 2530
            },
            {
              "item_id": 2560
            },
            {
              "item_id": 2600
            },
            {
              "item_id": 2733
            },
            {
              "item_id": 2839
            },
            {
              "item_id": 2934
            },
            {
              "item_id": 3022
            },
            {
              "item_id": 3108
            },
            {
              "item_id": 3238
            },
            {
              "item_id": 3314
            },
            {
              "item_id": 3348
            },
            {
              "item_id": 3378
            },
            {
              "item_id": 3406
            },
            {
              "item_id": 3407
            }
          ],
          "base_uri": "https://localhost:8080/",
          "height": 3510
        },
        "outputId": "4f5009a7-3d3e-4f8a-ebfb-7d47d573ead9",
        "executionInfo": {
          "status": "ok",
          "timestamp": 1518131110744,
          "user_tz": 480,
          "elapsed": 2733908,
          "user": {
            "displayName": "Sean F",
            "photoUrl": "https://lh3.googleusercontent.com/a/default-user=s128",
            "userId": "116660849883373944671"
          }
        }
      },
      "cell_type": "code",
      "source": [
        "# Fitting the ANN to the Training set\n",
        "classifier.fit(X_train, y_train, batch_size = 10, epochs = 100)"
      ],
      "execution_count": 22,
      "outputs": [
        {
          "output_type": "stream",
          "text": [
            "Epoch 1/100\n",
            "52748/52748 [==============================] - 28s 539us/step - loss: 0.6247 - acc: 0.6209\n",
            "Epoch 2/100\n",
            "25190/52748 [=============>................] - ETA: 14s - loss: 0.6013 - acc: 0.6410"
          ],
          "name": "stdout"
        },
        {
          "output_type": "stream",
          "text": [
            "52748/52748 [==============================] - 27s 521us/step - loss: 0.6004 - acc: 0.6430\n",
            "Epoch 3/100\n",
            "41450/52748 [======================>.......] - ETA: 5s - loss: 0.5882 - acc: 0.6559"
          ],
          "name": "stdout"
        },
        {
          "output_type": "stream",
          "text": [
            "52748/52748 [==============================] - 27s 518us/step - loss: 0.5879 - acc: 0.6549\n",
            "Epoch 4/100\n",
            "48550/52748 [==========================>...] - ETA: 2s - loss: 0.5789 - acc: 0.6627"
          ],
          "name": "stdout"
        },
        {
          "output_type": "stream",
          "text": [
            "52748/52748 [==============================] - 28s 523us/step - loss: 0.5791 - acc: 0.6630\n",
            "Epoch 5/100\n",
            "52110/52748 [============================>.] - ETA: 0s - loss: 0.5722 - acc: 0.6677"
          ],
          "name": "stdout"
        },
        {
          "output_type": "stream",
          "text": [
            "52748/52748 [==============================] - 27s 519us/step - loss: 0.5723 - acc: 0.6678\n",
            "Epoch 6/100\n",
            "52748/52748 [==============================] - 27s 520us/step - loss: 0.5665 - acc: 0.6718\n",
            "Epoch 7/100\n",
            "  420/52748 [..............................] - ETA: 28s - loss: 0.5533 - acc: 0.6905"
          ],
          "name": "stdout"
        },
        {
          "output_type": "stream",
          "text": [
            "52748/52748 [==============================] - 28s 524us/step - loss: 0.5598 - acc: 0.6771\n",
            "Epoch 8/100\n",
            "30180/52748 [================>.............] - ETA: 11s - loss: 0.5551 - acc: 0.6806"
          ],
          "name": "stdout"
        },
        {
          "output_type": "stream",
          "text": [
            "52748/52748 [==============================] - 27s 521us/step - loss: 0.5546 - acc: 0.6807\n",
            "Epoch 9/100\n",
            "43590/52748 [=======================>......] - ETA: 4s - loss: 0.5517 - acc: 0.6830"
          ],
          "name": "stdout"
        },
        {
          "output_type": "stream",
          "text": [
            "52748/52748 [==============================] - 27s 520us/step - loss: 0.5516 - acc: 0.6830\n",
            "Epoch 10/100\n",
            "49610/52748 [===========================>..] - ETA: 1s - loss: 0.5479 - acc: 0.6866"
          ],
          "name": "stdout"
        },
        {
          "output_type": "stream",
          "text": [
            "52748/52748 [==============================] - 27s 520us/step - loss: 0.5475 - acc: 0.6867\n",
            "Epoch 11/100\n",
            "52290/52748 [============================>.] - ETA: 0s - loss: 0.5441 - acc: 0.6886"
          ],
          "name": "stdout"
        },
        {
          "output_type": "stream",
          "text": [
            "52748/52748 [==============================] - 27s 518us/step - loss: 0.5440 - acc: 0.6887\n",
            "Epoch 12/100\n",
            "52748/52748 [==============================] - 27s 519us/step - loss: 0.5415 - acc: 0.6910\n",
            "Epoch 13/100\n",
            "  310/52748 [..............................] - ETA: 27s - loss: 0.5438 - acc: 0.6968"
          ],
          "name": "stdout"
        },
        {
          "output_type": "stream",
          "text": [
            "52748/52748 [==============================] - 27s 521us/step - loss: 0.5386 - acc: 0.6945\n",
            "Epoch 14/100\n",
            "29970/52748 [================>.............] - ETA: 11s - loss: 0.5339 - acc: 0.6998"
          ],
          "name": "stdout"
        },
        {
          "output_type": "stream",
          "text": [
            "52748/52748 [==============================] - 27s 520us/step - loss: 0.5362 - acc: 0.6966\n",
            "Epoch 15/100\n",
            "43490/52748 [=======================>......] - ETA: 4s - loss: 0.5326 - acc: 0.6992"
          ],
          "name": "stdout"
        },
        {
          "output_type": "stream",
          "text": [
            "52748/52748 [==============================] - 27s 519us/step - loss: 0.5337 - acc: 0.6979\n",
            "Epoch 16/100\n",
            "49780/52748 [===========================>..] - ETA: 1s - loss: 0.5310 - acc: 0.7016"
          ],
          "name": "stdout"
        },
        {
          "output_type": "stream",
          "text": [
            "52748/52748 [==============================] - 27s 516us/step - loss: 0.5315 - acc: 0.7014\n",
            "Epoch 17/100\n",
            "52380/52748 [============================>.] - ETA: 0s - loss: 0.5311 - acc: 0.7015"
          ],
          "name": "stdout"
        },
        {
          "output_type": "stream",
          "text": [
            "52748/52748 [==============================] - 27s 518us/step - loss: 0.5311 - acc: 0.7014\n",
            "Epoch 18/100\n",
            "52748/52748 [==============================] - 27s 520us/step - loss: 0.5280 - acc: 0.7003\n",
            "Epoch 19/100\n",
            "  200/52748 [..............................] - ETA: 30s - loss: 0.4990 - acc: 0.7250"
          ],
          "name": "stdout"
        },
        {
          "output_type": "stream",
          "text": [
            "52748/52748 [==============================] - 27s 515us/step - loss: 0.5264 - acc: 0.7035\n",
            "Epoch 20/100\n",
            "30530/52748 [================>.............] - ETA: 11s - loss: 0.5226 - acc: 0.7055"
          ],
          "name": "stdout"
        },
        {
          "output_type": "stream",
          "text": [
            "52748/52748 [==============================] - 27s 515us/step - loss: 0.5249 - acc: 0.7042\n",
            "Epoch 21/100\n",
            "44200/52748 [========================>.....] - ETA: 4s - loss: 0.5242 - acc: 0.7039"
          ],
          "name": "stdout"
        },
        {
          "output_type": "stream",
          "text": [
            "52748/52748 [==============================] - 27s 513us/step - loss: 0.5241 - acc: 0.7034\n",
            "Epoch 22/100\n",
            "50790/52748 [===========================>..] - ETA: 0s - loss: 0.5230 - acc: 0.7042"
          ],
          "name": "stdout"
        },
        {
          "output_type": "stream",
          "text": [
            "52748/52748 [==============================] - 27s 509us/step - loss: 0.5231 - acc: 0.7042\n",
            "Epoch 23/100\n",
            "52748/52748 [==============================] - 27s 517us/step - loss: 0.5217 - acc: 0.7064\n",
            "Epoch 24/100\n",
            "  120/52748 [..............................] - ETA: 29s - loss: 0.5007 - acc: 0.7583 "
          ],
          "name": "stdout"
        },
        {
          "output_type": "stream",
          "text": [
            "52748/52748 [==============================] - 27s 517us/step - loss: 0.5202 - acc: 0.7061\n",
            "Epoch 25/100\n",
            "30070/52748 [================>.............] - ETA: 11s - loss: 0.5156 - acc: 0.7109"
          ],
          "name": "stdout"
        },
        {
          "output_type": "stream",
          "text": [
            "52748/52748 [==============================] - 28s 523us/step - loss: 0.5182 - acc: 0.7078\n",
            "Epoch 26/100\n",
            "43300/52748 [=======================>......] - ETA: 4s - loss: 0.5173 - acc: 0.7110"
          ],
          "name": "stdout"
        },
        {
          "output_type": "stream",
          "text": [
            "52748/52748 [==============================] - 27s 519us/step - loss: 0.5182 - acc: 0.7102\n",
            "Epoch 27/100\n",
            "49720/52748 [===========================>..] - ETA: 1s - loss: 0.5146 - acc: 0.7109"
          ],
          "name": "stdout"
        },
        {
          "output_type": "stream",
          "text": [
            "52748/52748 [==============================] - 27s 517us/step - loss: 0.5162 - acc: 0.7098\n",
            "Epoch 28/100\n",
            "52310/52748 [============================>.] - ETA: 0s - loss: 0.5158 - acc: 0.7087"
          ],
          "name": "stdout"
        },
        {
          "output_type": "stream",
          "text": [
            "52748/52748 [==============================] - 27s 519us/step - loss: 0.5156 - acc: 0.7090\n",
            "Epoch 29/100\n",
            "52748/52748 [==============================] - 27s 518us/step - loss: 0.5163 - acc: 0.7102\n",
            "Epoch 30/100\n",
            "  300/52748 [..............................] - ETA: 29s - loss: 0.4645 - acc: 0.7267"
          ],
          "name": "stdout"
        },
        {
          "output_type": "stream",
          "text": [
            "52748/52748 [==============================] - 27s 521us/step - loss: 0.5136 - acc: 0.7117\n",
            "Epoch 31/100\n",
            "30290/52748 [================>.............] - ETA: 11s - loss: 0.5141 - acc: 0.7126"
          ],
          "name": "stdout"
        },
        {
          "output_type": "stream",
          "text": [
            "52748/52748 [==============================] - 27s 520us/step - loss: 0.5135 - acc: 0.7121\n",
            "Epoch 32/100\n",
            "43870/52748 [=======================>......] - ETA: 4s - loss: 0.5120 - acc: 0.7131"
          ],
          "name": "stdout"
        },
        {
          "output_type": "stream",
          "text": [
            "52748/52748 [==============================] - 27s 516us/step - loss: 0.5119 - acc: 0.7127\n",
            "Epoch 33/100\n",
            "49690/52748 [===========================>..] - ETA: 1s - loss: 0.5110 - acc: 0.7123"
          ],
          "name": "stdout"
        },
        {
          "output_type": "stream",
          "text": [
            "52748/52748 [==============================] - 27s 518us/step - loss: 0.5114 - acc: 0.7117\n",
            "Epoch 34/100\n",
            "52000/52748 [============================>.] - ETA: 0s - loss: 0.5110 - acc: 0.7137"
          ],
          "name": "stdout"
        },
        {
          "output_type": "stream",
          "text": [
            "52748/52748 [==============================] - 28s 522us/step - loss: 0.5109 - acc: 0.7137\n",
            "Epoch 35/100\n",
            "52550/52748 [============================>.] - ETA: 0s - loss: 0.5099 - acc: 0.7152"
          ],
          "name": "stdout"
        },
        {
          "output_type": "stream",
          "text": [
            "52748/52748 [==============================] - 28s 526us/step - loss: 0.5100 - acc: 0.7152\n",
            "Epoch 36/100\n",
            "52748/52748 [==============================] - 28s 523us/step - loss: 0.5090 - acc: 0.7164\n",
            "Epoch 37/100\n",
            "  110/52748 [..............................] - ETA: 30s - loss: 0.4462 - acc: 0.7455 "
          ],
          "name": "stdout"
        },
        {
          "output_type": "stream",
          "text": [
            "52748/52748 [==============================] - 27s 520us/step - loss: 0.5082 - acc: 0.7158\n",
            "Epoch 38/100\n",
            "30250/52748 [================>.............] - ETA: 11s - loss: 0.5033 - acc: 0.7207"
          ],
          "name": "stdout"
        },
        {
          "output_type": "stream",
          "text": [
            "52748/52748 [==============================] - 27s 520us/step - loss: 0.5077 - acc: 0.7175\n",
            "Epoch 39/100\n",
            "43870/52748 [=======================>......] - ETA: 4s - loss: 0.5069 - acc: 0.7164"
          ],
          "name": "stdout"
        },
        {
          "output_type": "stream",
          "text": [
            "52748/52748 [==============================] - 27s 516us/step - loss: 0.5074 - acc: 0.7157\n",
            "Epoch 40/100\n",
            "50050/52748 [===========================>..] - ETA: 1s - loss: 0.5070 - acc: 0.7165"
          ],
          "name": "stdout"
        },
        {
          "output_type": "stream",
          "text": [
            "52748/52748 [==============================] - 27s 514us/step - loss: 0.5068 - acc: 0.7161\n",
            "Epoch 41/100\n",
            "52748/52748 [==============================] - 27s 516us/step - loss: 0.5056 - acc: 0.7187\n"
          ],
          "name": "stdout"
        },
        {
          "output_type": "stream",
          "text": [
            "Epoch 42/100\n",
            "52748/52748 [==============================] - 27s 514us/step - loss: 0.5053 - acc: 0.7193\n",
            "Epoch 43/100\n",
            "24670/52748 [=============>................] - ETA: 14s - loss: 0.5000 - acc: 0.7226"
          ],
          "name": "stdout"
        },
        {
          "output_type": "stream",
          "text": [
            "52748/52748 [==============================] - 28s 522us/step - loss: 0.5058 - acc: 0.7191\n",
            "Epoch 44/100\n",
            "41400/52748 [======================>.......] - ETA: 5s - loss: 0.5024 - acc: 0.7225"
          ],
          "name": "stdout"
        },
        {
          "output_type": "stream",
          "text": [
            "52748/52748 [==============================] - 27s 517us/step - loss: 0.5036 - acc: 0.7209\n",
            "Epoch 45/100\n",
            "48450/52748 [==========================>...] - ETA: 2s - loss: 0.5032 - acc: 0.7208"
          ],
          "name": "stdout"
        },
        {
          "output_type": "stream",
          "text": [
            "52748/52748 [==============================] - 27s 521us/step - loss: 0.5036 - acc: 0.7199\n",
            "Epoch 46/100\n",
            "51780/52748 [============================>.] - ETA: 0s - loss: 0.5039 - acc: 0.7202"
          ],
          "name": "stdout"
        },
        {
          "output_type": "stream",
          "text": [
            "52748/52748 [==============================] - 27s 519us/step - loss: 0.5041 - acc: 0.7194\n",
            "Epoch 47/100\n",
            "52748/52748 [==============================] - 27s 516us/step - loss: 0.5031 - acc: 0.7195\n",
            "Epoch 48/100\n",
            "  390/52748 [..............................] - ETA: 30s - loss: 0.5171 - acc: 0.6846"
          ],
          "name": "stdout"
        },
        {
          "output_type": "stream",
          "text": [
            "52748/52748 [==============================] - 27s 518us/step - loss: 0.5021 - acc: 0.7201\n",
            "Epoch 49/100\n",
            "30520/52748 [================>.............] - ETA: 11s - loss: 0.4993 - acc: 0.7223"
          ],
          "name": "stdout"
        },
        {
          "output_type": "stream",
          "text": [
            "52748/52748 [==============================] - 27s 515us/step - loss: 0.5010 - acc: 0.7203\n",
            "Epoch 50/100\n",
            "44500/52748 [========================>.....] - ETA: 4s - loss: 0.4999 - acc: 0.7209"
          ],
          "name": "stdout"
        },
        {
          "output_type": "stream",
          "text": [
            "52748/52748 [==============================] - 27s 512us/step - loss: 0.5002 - acc: 0.7211\n",
            "Epoch 51/100\n",
            "49600/52748 [===========================>..] - ETA: 1s - loss: 0.4995 - acc: 0.7217"
          ],
          "name": "stdout"
        },
        {
          "output_type": "stream",
          "text": [
            "52748/52748 [==============================] - 28s 522us/step - loss: 0.5002 - acc: 0.7209\n",
            "Epoch 52/100\n",
            "52380/52748 [============================>.] - ETA: 0s - loss: 0.4989 - acc: 0.7212"
          ],
          "name": "stdout"
        },
        {
          "output_type": "stream",
          "text": [
            "52748/52748 [==============================] - 27s 518us/step - loss: 0.4991 - acc: 0.7211\n",
            "Epoch 53/100\n",
            "52748/52748 [==============================] - 28s 522us/step - loss: 0.4986 - acc: 0.7244\n",
            "Epoch 54/100\n",
            "   10/52748 [..............................] - ETA: 1:18 - loss: 0.4416 - acc: 0.8000"
          ],
          "name": "stdout"
        },
        {
          "output_type": "stream",
          "text": [
            "52748/52748 [==============================] - 27s 518us/step - loss: 0.4979 - acc: 0.7233\n",
            "Epoch 55/100\n",
            "29940/52748 [================>.............] - ETA: 11s - loss: 0.4968 - acc: 0.7228"
          ],
          "name": "stdout"
        },
        {
          "output_type": "stream",
          "text": [
            "52748/52748 [==============================] - 27s 517us/step - loss: 0.4987 - acc: 0.7225\n",
            "Epoch 56/100\n",
            "43820/52748 [=======================>......] - ETA: 4s - loss: 0.4972 - acc: 0.7247"
          ],
          "name": "stdout"
        },
        {
          "output_type": "stream",
          "text": [
            "52748/52748 [==============================] - 27s 517us/step - loss: 0.4983 - acc: 0.7240\n",
            "Epoch 57/100\n",
            "49590/52748 [===========================>..] - ETA: 1s - loss: 0.4984 - acc: 0.7225"
          ],
          "name": "stdout"
        },
        {
          "output_type": "stream",
          "text": [
            "52748/52748 [==============================] - 27s 518us/step - loss: 0.4984 - acc: 0.7230\n",
            "Epoch 58/100\n",
            "52748/52748 [==============================] - 27s 514us/step - loss: 0.4972 - acc: 0.7226\n"
          ],
          "name": "stdout"
        },
        {
          "output_type": "stream",
          "text": [
            "Epoch 59/100\n",
            "52748/52748 [==============================] - 27s 517us/step - loss: 0.4974 - acc: 0.7234\n",
            "Epoch 60/100\n",
            "25060/52748 [=============>................] - ETA: 14s - loss: 0.4936 - acc: 0.7264"
          ],
          "name": "stdout"
        },
        {
          "output_type": "stream",
          "text": [
            "52748/52748 [==============================] - 27s 512us/step - loss: 0.4966 - acc: 0.7243\n",
            "Epoch 61/100\n",
            "42060/52748 [======================>.......] - ETA: 5s - loss: 0.4941 - acc: 0.7265"
          ],
          "name": "stdout"
        },
        {
          "output_type": "stream",
          "text": [
            "52748/52748 [==============================] - 27s 513us/step - loss: 0.4960 - acc: 0.7254\n",
            "Epoch 62/100\n",
            "49210/52748 [==========================>...] - ETA: 1s - loss: 0.4963 - acc: 0.7248"
          ],
          "name": "stdout"
        },
        {
          "output_type": "stream",
          "text": [
            "52748/52748 [==============================] - 27s 517us/step - loss: 0.4956 - acc: 0.7254\n",
            "Epoch 63/100\n",
            "52340/52748 [============================>.] - ETA: 0s - loss: 0.4958 - acc: 0.7249"
          ],
          "name": "stdout"
        },
        {
          "output_type": "stream",
          "text": [
            "52748/52748 [==============================] - 27s 515us/step - loss: 0.4961 - acc: 0.7246\n",
            "Epoch 64/100\n",
            "52748/52748 [==============================] - 27s 515us/step - loss: 0.4951 - acc: 0.7254\n",
            "Epoch 65/100\n",
            "  620/52748 [..............................] - ETA: 27s - loss: 0.5012 - acc: 0.7065"
          ],
          "name": "stdout"
        },
        {
          "output_type": "stream",
          "text": [
            "52748/52748 [==============================] - 27s 515us/step - loss: 0.4950 - acc: 0.7249\n",
            "Epoch 66/100\n",
            "30740/52748 [================>.............] - ETA: 11s - loss: 0.4943 - acc: 0.7259"
          ],
          "name": "stdout"
        },
        {
          "output_type": "stream",
          "text": [
            "52748/52748 [==============================] - 27s 517us/step - loss: 0.4949 - acc: 0.7241\n",
            "Epoch 67/100\n",
            "43710/52748 [=======================>......] - ETA: 4s - loss: 0.4927 - acc: 0.7273"
          ],
          "name": "stdout"
        },
        {
          "output_type": "stream",
          "text": [
            "52748/52748 [==============================] - 27s 519us/step - loss: 0.4941 - acc: 0.7260\n",
            "Epoch 68/100\n",
            "50080/52748 [===========================>..] - ETA: 1s - loss: 0.4930 - acc: 0.7242"
          ],
          "name": "stdout"
        },
        {
          "output_type": "stream",
          "text": [
            "52748/52748 [==============================] - 27s 514us/step - loss: 0.4937 - acc: 0.7238\n",
            "Epoch 69/100\n",
            "52590/52748 [============================>.] - ETA: 0s - loss: 0.4929 - acc: 0.7262"
          ],
          "name": "stdout"
        },
        {
          "output_type": "stream",
          "text": [
            "52748/52748 [==============================] - 27s 518us/step - loss: 0.4929 - acc: 0.7262\n",
            "Epoch 70/100\n",
            "52748/52748 [==============================] - 27s 515us/step - loss: 0.4944 - acc: 0.7279\n",
            "Epoch 71/100\n",
            "  520/52748 [..............................] - ETA: 28s - loss: 0.4753 - acc: 0.7462"
          ],
          "name": "stdout"
        },
        {
          "output_type": "stream",
          "text": [
            "52748/52748 [==============================] - 27s 519us/step - loss: 0.4949 - acc: 0.7262\n",
            "Epoch 72/100\n",
            "30350/52748 [================>.............] - ETA: 11s - loss: 0.4880 - acc: 0.7313"
          ],
          "name": "stdout"
        },
        {
          "output_type": "stream",
          "text": [
            "52748/52748 [==============================] - 27s 516us/step - loss: 0.4918 - acc: 0.7275\n",
            "Epoch 73/100\n",
            "43700/52748 [=======================>......] - ETA: 4s - loss: 0.4931 - acc: 0.7267"
          ],
          "name": "stdout"
        },
        {
          "output_type": "stream",
          "text": [
            "52748/52748 [==============================] - 27s 519us/step - loss: 0.4940 - acc: 0.7256\n",
            "Epoch 74/100\n",
            "49950/52748 [===========================>..] - ETA: 1s - loss: 0.4928 - acc: 0.7283"
          ],
          "name": "stdout"
        },
        {
          "output_type": "stream",
          "text": [
            "52748/52748 [==============================] - 27s 516us/step - loss: 0.4942 - acc: 0.7270\n",
            "Epoch 75/100\n",
            "52270/52748 [============================>.] - ETA: 0s - loss: 0.4913 - acc: 0.7282"
          ],
          "name": "stdout"
        },
        {
          "output_type": "stream",
          "text": [
            "52748/52748 [==============================] - 28s 522us/step - loss: 0.4914 - acc: 0.7280\n",
            "Epoch 76/100\n",
            "52748/52748 [==============================] - 27s 516us/step - loss: 0.4920 - acc: 0.7287\n",
            "Epoch 77/100\n",
            "  430/52748 [..............................] - ETA: 27s - loss: 0.4717 - acc: 0.7465"
          ],
          "name": "stdout"
        },
        {
          "output_type": "stream",
          "text": [
            "52748/52748 [==============================] - 27s 514us/step - loss: 0.4911 - acc: 0.7289\n",
            "Epoch 78/100\n",
            "30290/52748 [================>.............] - ETA: 11s - loss: 0.4895 - acc: 0.7282"
          ],
          "name": "stdout"
        },
        {
          "output_type": "stream",
          "text": [
            "52748/52748 [==============================] - 27s 518us/step - loss: 0.4913 - acc: 0.7276\n",
            "Epoch 79/100\n",
            "43860/52748 [=======================>......] - ETA: 4s - loss: 0.4907 - acc: 0.7280"
          ],
          "name": "stdout"
        },
        {
          "output_type": "stream",
          "text": [
            "52748/52748 [==============================] - 27s 516us/step - loss: 0.4912 - acc: 0.7281\n",
            "Epoch 80/100\n",
            "49580/52748 [===========================>..] - ETA: 1s - loss: 0.4902 - acc: 0.7282"
          ],
          "name": "stdout"
        },
        {
          "output_type": "stream",
          "text": [
            "52748/52748 [==============================] - 27s 520us/step - loss: 0.4914 - acc: 0.7274\n",
            "Epoch 81/100\n",
            "52450/52748 [============================>.] - ETA: 0s - loss: 0.4896 - acc: 0.7294"
          ],
          "name": "stdout"
        },
        {
          "output_type": "stream",
          "text": [
            "52748/52748 [==============================] - 27s 517us/step - loss: 0.4895 - acc: 0.7294\n",
            "Epoch 82/100\n",
            "52748/52748 [==============================] - 27s 518us/step - loss: 0.4900 - acc: 0.7301\n",
            "Epoch 83/100\n",
            "  390/52748 [..............................] - ETA: 30s - loss: 0.5111 - acc: 0.7179"
          ],
          "name": "stdout"
        },
        {
          "output_type": "stream",
          "text": [
            "52748/52748 [==============================] - 27s 518us/step - loss: 0.4900 - acc: 0.7295\n",
            "Epoch 84/100\n",
            "30220/52748 [================>.............] - ETA: 11s - loss: 0.4829 - acc: 0.7345"
          ],
          "name": "stdout"
        },
        {
          "output_type": "stream",
          "text": [
            "52748/52748 [==============================] - 27s 520us/step - loss: 0.4892 - acc: 0.7292\n",
            "Epoch 85/100\n",
            "43080/52748 [=======================>......] - ETA: 5s - loss: 0.4873 - acc: 0.7295"
          ],
          "name": "stdout"
        },
        {
          "output_type": "stream",
          "text": [
            "52748/52748 [==============================] - 28s 523us/step - loss: 0.4890 - acc: 0.7283\n",
            "Epoch 86/100\n",
            "49650/52748 [===========================>..] - ETA: 1s - loss: 0.4881 - acc: 0.7292"
          ],
          "name": "stdout"
        },
        {
          "output_type": "stream",
          "text": [
            "52748/52748 [==============================] - 27s 516us/step - loss: 0.4884 - acc: 0.7292\n",
            "Epoch 87/100\n",
            "52050/52748 [============================>.] - ETA: 0s - loss: 0.4879 - acc: 0.7319"
          ],
          "name": "stdout"
        },
        {
          "output_type": "stream",
          "text": [
            "52748/52748 [==============================] - 27s 521us/step - loss: 0.4885 - acc: 0.7315\n",
            "Epoch 88/100\n",
            "52748/52748 [==============================] - 27s 519us/step - loss: 0.4881 - acc: 0.7317\n",
            "Epoch 89/100\n",
            "  200/52748 [..............................] - ETA: 29s - loss: 0.5567 - acc: 0.6650"
          ],
          "name": "stdout"
        },
        {
          "output_type": "stream",
          "text": [
            "52748/52748 [==============================] - 27s 520us/step - loss: 0.4879 - acc: 0.7300\n",
            "Epoch 90/100\n",
            "30050/52748 [================>.............] - ETA: 11s - loss: 0.4863 - acc: 0.7323"
          ],
          "name": "stdout"
        },
        {
          "output_type": "stream",
          "text": [
            "52748/52748 [==============================] - 27s 519us/step - loss: 0.4890 - acc: 0.7310\n",
            "Epoch 91/100\n",
            "43530/52748 [=======================>......] - ETA: 4s - loss: 0.4861 - acc: 0.7344"
          ],
          "name": "stdout"
        },
        {
          "output_type": "stream",
          "text": [
            "52748/52748 [==============================] - 27s 519us/step - loss: 0.4879 - acc: 0.7314\n",
            "Epoch 92/100\n",
            "49630/52748 [===========================>..] - ETA: 1s - loss: 0.4860 - acc: 0.7312"
          ],
          "name": "stdout"
        },
        {
          "output_type": "stream",
          "text": [
            "52748/52748 [==============================] - 27s 517us/step - loss: 0.4868 - acc: 0.7306\n",
            "Epoch 93/100\n",
            "52310/52748 [============================>.] - ETA: 0s - loss: 0.4868 - acc: 0.7308"
          ],
          "name": "stdout"
        },
        {
          "output_type": "stream",
          "text": [
            "52748/52748 [==============================] - 27s 518us/step - loss: 0.4869 - acc: 0.7306\n",
            "Epoch 94/100\n",
            "52748/52748 [==============================] - 27s 518us/step - loss: 0.4871 - acc: 0.7311\n",
            "Epoch 95/100\n",
            "  410/52748 [..............................] - ETA: 27s - loss: 0.4879 - acc: 0.7244"
          ],
          "name": "stdout"
        },
        {
          "output_type": "stream",
          "text": [
            "52748/52748 [==============================] - 27s 517us/step - loss: 0.4863 - acc: 0.7313\n",
            "Epoch 96/100\n",
            "30810/52748 [================>.............] - ETA: 11s - loss: 0.4871 - acc: 0.7304"
          ],
          "name": "stdout"
        },
        {
          "output_type": "stream",
          "text": [
            "52748/52748 [==============================] - 27s 513us/step - loss: 0.4884 - acc: 0.7301\n",
            "Epoch 97/100\n",
            "44220/52748 [========================>.....] - ETA: 4s - loss: 0.4852 - acc: 0.7303"
          ],
          "name": "stdout"
        },
        {
          "output_type": "stream",
          "text": [
            "52748/52748 [==============================] - 27s 516us/step - loss: 0.4860 - acc: 0.7305\n",
            "Epoch 98/100\n",
            "50520/52748 [===========================>..] - ETA: 1s - loss: 0.4863 - acc: 0.7315"
          ],
          "name": "stdout"
        },
        {
          "output_type": "stream",
          "text": [
            "52748/52748 [==============================] - 27s 513us/step - loss: 0.4862 - acc: 0.7318\n",
            "Epoch 99/100\n",
            "52460/52748 [============================>.] - ETA: 0s - loss: 0.4861 - acc: 0.7317"
          ],
          "name": "stdout"
        },
        {
          "output_type": "stream",
          "text": [
            "52748/52748 [==============================] - 27s 520us/step - loss: 0.4860 - acc: 0.7318\n",
            "Epoch 100/100\n",
            "52748/52748 [==============================] - 27s 518us/step - loss: 0.4862 - acc: 0.7317\n"
          ],
          "name": "stdout"
        },
        {
          "output_type": "execute_result",
          "data": {
            "text/plain": [
              "<keras.callbacks.History at 0x7fec1bac8588>"
            ]
          },
          "metadata": {
            "tags": []
          },
          "execution_count": 22
        }
      ]
    },
    {
      "metadata": {
        "id": "CliAzQDWSgCF",
        "colab_type": "text"
      },
      "cell_type": "markdown",
      "source": [
        "Making Predictions and Confusion Matrix."
      ]
    },
    {
      "metadata": {
        "id": "a9cI2HEtR7ma",
        "colab_type": "code",
        "colab": {
          "autoexec": {
            "startup": false,
            "wait_interval": 0
          }
        }
      },
      "cell_type": "code",
      "source": [
        "# Predicting the Test set results\n",
        "y_pred = classifier.predict(X_test)\n",
        "y_pred = (y_pred > 0.5)\n",
        "\n",
        "# Making the Confusion Matrix\n",
        "from sklearn.metrics import confusion_matrix\n",
        "cm = confusion_matrix(y_test, y_pred) "
      ],
      "execution_count": 0,
      "outputs": []
    },
    {
      "metadata": {
        "id": "-RTBBIIdziPo",
        "colab_type": "code",
        "colab": {
          "autoexec": {
            "startup": false,
            "wait_interval": 0
          },
          "output_extras": [
            {
              "item_id": 1
            }
          ],
          "base_uri": "https://localhost:8080/",
          "height": 51
        },
        "outputId": "54fc7f06-24fe-4082-9188-0cb503bb2438",
        "executionInfo": {
          "status": "ok",
          "timestamp": 1518133457043,
          "user_tz": 480,
          "elapsed": 266,
          "user": {
            "displayName": "Sean F",
            "photoUrl": "https://lh3.googleusercontent.com/a/default-user=s128",
            "userId": "116660849883373944671"
          }
        }
      },
      "cell_type": "code",
      "source": [
        "cm"
      ],
      "execution_count": 41,
      "outputs": [
        {
          "output_type": "execute_result",
          "data": {
            "text/plain": [
              "array([[4610, 1918],\n",
              "       [2233, 4427]])"
            ]
          },
          "metadata": {
            "tags": []
          },
          "execution_count": 41
        }
      ]
    },
    {
      "metadata": {
        "id": "K9L-pVFrwfam",
        "colab_type": "text"
      },
      "cell_type": "markdown",
      "source": [
        "|-------------|Predicted NO | Predicted Yes|\n",
        "|-------------|-------------|--------------|\n",
        "|Actual No    | TN = 4610   | FP = 1918    |\n",
        "|-------------|-------------|--------------|      \n",
        "|Actual yes   | FN = 2233   | FP = 4427    |\n",
        "|-------------|-------------|--------------|"
      ]
    },
    {
      "metadata": {
        "id": "9fh5A9z_tQ4x",
        "colab_type": "code",
        "colab": {
          "autoexec": {
            "startup": false,
            "wait_interval": 0
          }
        }
      },
      "cell_type": "code",
      "source": [
        "tn, fp, fn, tp  = cm[0,0], cm[0,1], cm[1,0], cm[1,1]"
      ],
      "execution_count": 0,
      "outputs": []
    },
    {
      "metadata": {
        "id": "EsFAV4wBtzFq",
        "colab_type": "code",
        "colab": {
          "autoexec": {
            "startup": false,
            "wait_interval": 0
          }
        }
      },
      "cell_type": "code",
      "source": [
        "accuracy = (tp + tn) / (tn + fp +tp +fn)"
      ],
      "execution_count": 0,
      "outputs": []
    },
    {
      "metadata": {
        "id": "lO67LcR1t0IX",
        "colab_type": "code",
        "colab": {
          "autoexec": {
            "startup": false,
            "wait_interval": 0
          },
          "output_extras": [
            {
              "item_id": 1
            }
          ],
          "base_uri": "https://localhost:8080/",
          "height": 34
        },
        "outputId": "2c55dcaf-f903-4b59-a69f-1923b0014326",
        "executionInfo": {
          "status": "ok",
          "timestamp": 1518132039088,
          "user_tz": 480,
          "elapsed": 273,
          "user": {
            "displayName": "Sean F",
            "photoUrl": "https://lh3.googleusercontent.com/a/default-user=s128",
            "userId": "116660849883373944671"
          }
        }
      },
      "cell_type": "code",
      "source": [
        "accuracy"
      ],
      "execution_count": 36,
      "outputs": [
        {
          "output_type": "execute_result",
          "data": {
            "text/plain": [
              "0.685244161358811"
            ]
          },
          "metadata": {
            "tags": []
          },
          "execution_count": 36
        }
      ]
    },
    {
      "metadata": {
        "id": "MvO8L49HvlBK",
        "colab_type": "text"
      },
      "cell_type": "markdown",
      "source": [
        "Precision:  percent of the positive cases predicted? "
      ]
    },
    {
      "metadata": {
        "id": "v7SV56tQt1Iv",
        "colab_type": "code",
        "colab": {
          "autoexec": {
            "startup": false,
            "wait_interval": 0
          }
        }
      },
      "cell_type": "code",
      "source": [
        "precision = tp / (fn + tp)"
      ],
      "execution_count": 0,
      "outputs": []
    },
    {
      "metadata": {
        "id": "QDZj6WWiv0tn",
        "colab_type": "text"
      },
      "cell_type": "markdown",
      "source": [
        "Recall: percent of correct positive predictions?"
      ]
    },
    {
      "metadata": {
        "id": "NhBjPqXdt4cK",
        "colab_type": "code",
        "colab": {
          "autoexec": {
            "startup": false,
            "wait_interval": 0
          }
        }
      },
      "cell_type": "code",
      "source": [
        "recall = tp / (fp + tp)"
      ],
      "execution_count": 0,
      "outputs": []
    },
    {
      "metadata": {
        "id": "UhM2dl1Yt5fN",
        "colab_type": "code",
        "colab": {
          "autoexec": {
            "startup": false,
            "wait_interval": 0
          },
          "output_extras": [
            {
              "item_id": 1
            }
          ],
          "base_uri": "https://localhost:8080/",
          "height": 34
        },
        "outputId": "49054aac-fbf6-4887-adc7-61132d095075",
        "executionInfo": {
          "status": "ok",
          "timestamp": 1518132553939,
          "user_tz": 480,
          "elapsed": 268,
          "user": {
            "displayName": "Sean F",
            "photoUrl": "https://lh3.googleusercontent.com/a/default-user=s128",
            "userId": "116660849883373944671"
          }
        }
      },
      "cell_type": "code",
      "source": [
        "precision"
      ],
      "execution_count": 39,
      "outputs": [
        {
          "output_type": "execute_result",
          "data": {
            "text/plain": [
              "0.6647147147147147"
            ]
          },
          "metadata": {
            "tags": []
          },
          "execution_count": 39
        }
      ]
    },
    {
      "metadata": {
        "id": "ul3AfNd0wGeG",
        "colab_type": "code",
        "colab": {
          "autoexec": {
            "startup": false,
            "wait_interval": 0
          },
          "output_extras": [
            {
              "item_id": 1
            }
          ],
          "base_uri": "https://localhost:8080/",
          "height": 34
        },
        "outputId": "f77c5ede-e8f5-4211-ddb6-17cccff3a9c3",
        "executionInfo": {
          "status": "ok",
          "timestamp": 1518132560018,
          "user_tz": 480,
          "elapsed": 277,
          "user": {
            "displayName": "Sean F",
            "photoUrl": "https://lh3.googleusercontent.com/a/default-user=s128",
            "userId": "116660849883373944671"
          }
        }
      },
      "cell_type": "code",
      "source": [
        "recall"
      ],
      "execution_count": 40,
      "outputs": [
        {
          "output_type": "execute_result",
          "data": {
            "text/plain": [
              "0.6977147360126084"
            ]
          },
          "metadata": {
            "tags": []
          },
          "execution_count": 40
        }
      ]
    },
    {
      "metadata": {
        "id": "AME2F4JPwH83",
        "colab_type": "code",
        "colab": {
          "autoexec": {
            "startup": false,
            "wait_interval": 0
          }
        }
      },
      "cell_type": "code",
      "source": [
        "import matplotlib.pyplot as plt\n",
        "import seaborn as sns\n",
        "%matplotlib inline"
      ],
      "execution_count": 0,
      "outputs": []
    },
    {
      "metadata": {
        "id": "mkh3eHFM0wqj",
        "colab_type": "code",
        "colab": {
          "autoexec": {
            "startup": false,
            "wait_interval": 0
          },
          "output_extras": [
            {
              "item_id": 1
            },
            {
              "item_id": 2
            }
          ],
          "base_uri": "https://localhost:8080/",
          "height": 311
        },
        "outputId": "e1fc88b8-96a7-4c3d-d0b4-809cea60c313",
        "executionInfo": {
          "status": "ok",
          "timestamp": 1518133941241,
          "user_tz": 480,
          "elapsed": 748,
          "user": {
            "displayName": "Sean F",
            "photoUrl": "https://lh3.googleusercontent.com/a/default-user=s128",
            "userId": "116660849883373944671"
          }
        }
      },
      "cell_type": "code",
      "source": [
        "from sklearn.metrics import roc_curve\n",
        "\n",
        "y_pred_prob = classifier.predict_proba(X_test)\n",
        "\n",
        "fpr, tpr, thresholds = roc_curve(y_test, y_pred_prob) \n",
        "\n",
        "plt.plot([0, 1], [0, 1], 'k--')\n",
        "\n",
        "plt.plot(fpr, tpr, label='ANN')\n",
        "\n",
        "plt.xlabel('False Positive Rate')\n",
        "\n",
        "plt.ylabel('True Positive Rate')\n",
        "\n",
        "plt.title('ANN ROC Curve')"
      ],
      "execution_count": 44,
      "outputs": [
        {
          "output_type": "execute_result",
          "data": {
            "text/plain": [
              "Text(0.5,1,'ANN ROC Curve')"
            ]
          },
          "metadata": {
            "tags": []
          },
          "execution_count": 44
        },
        {
          "output_type": "display_data",
          "data": {
            "image/png": "[encoded data removed]",
            "text/plain": [
              "<matplotlib.figure.Figure at 0x7fec1b51c1d0>"
            ]
          },
          "metadata": {
            "tags": []
          }
        }
      ]
    }
  ]
}